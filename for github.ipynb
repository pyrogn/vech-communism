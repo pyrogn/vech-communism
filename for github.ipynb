{
 "cells": [
  {
   "cell_type": "code",
   "execution_count": 10,
   "metadata": {},
   "outputs": [],
   "source": [
    "import requests #for downloading the web page"
   ]
  },
  {
   "cell_type": "code",
   "execution_count": 9,
   "metadata": {},
   "outputs": [],
   "source": [
    "import pandas as pd #манипуляции с таблицами"
   ]
  },
  {
   "cell_type": "code",
   "execution_count": 2,
   "metadata": {},
   "outputs": [],
   "source": [
    "import time\n",
    "import os #for file management and sleep while scraping"
   ]
  },
  {
   "cell_type": "code",
   "execution_count": 7,
   "metadata": {},
   "outputs": [],
   "source": [
    "import numpy as np #как генератор чисел"
   ]
  },
  {
   "cell_type": "code",
   "execution_count": 8,
   "metadata": {},
   "outputs": [],
   "source": [
    "from bs4 import BeautifulSoup #for getting text data from html. Главный рабочий инструмент."
   ]
  },
  {
   "cell_type": "code",
   "execution_count": null,
   "metadata": {},
   "outputs": [],
   "source": [
    "# Далее я показываю несколько примеров. Сам я много практиковался в получении нужных значений, а потом перевёл в функции."
   ]
  },
  {
   "cell_type": "code",
   "execution_count": 15,
   "metadata": {},
   "outputs": [],
   "source": [
    "urlPsyBasic = 'https://www.b17.ru/andrey_klementyev/'"
   ]
  },
  {
   "cell_type": "code",
   "execution_count": 20,
   "metadata": {},
   "outputs": [],
   "source": [
    "page = requests.get(urlPsyBasic)"
   ]
  },
  {
   "cell_type": "code",
   "execution_count": 21,
   "metadata": {},
   "outputs": [
    {
     "data": {
      "text/plain": [
       "200"
      ]
     },
     "execution_count": 21,
     "metadata": {},
     "output_type": "execute_result"
    }
   ],
   "source": [
    "page.status_code #ахаха, он был заблочен на дубковском интернете (мне кажется, из-за меня), был код 503."
   ]
  },
  {
   "cell_type": "code",
   "execution_count": 22,
   "metadata": {},
   "outputs": [],
   "source": [
    "soup = BeautifulSoup(page.content, 'lxml')"
   ]
  },
  {
   "cell_type": "code",
   "execution_count": 23,
   "metadata": {},
   "outputs": [],
   "source": [
    "namePsych = soup.title.string #вот так, к примеру, можно выгрузить имя и проблемы. Решается частично умом, частично перебором."
   ]
  },
  {
   "cell_type": "code",
   "execution_count": 24,
   "metadata": {},
   "outputs": [],
   "source": [
    "problemsPsych = soup.p.text"
   ]
  },
  {
   "cell_type": "code",
   "execution_count": 27,
   "metadata": {},
   "outputs": [],
   "source": []
  },
  {
   "cell_type": "code",
   "execution_count": 28,
   "metadata": {},
   "outputs": [],
   "source": []
  },
  {
   "cell_type": "code",
   "execution_count": null,
   "metadata": {},
   "outputs": [],
   "source": []
  },
  {
   "cell_type": "code",
   "execution_count": 66,
   "metadata": {},
   "outputs": [
    {
     "data": {
      "text/plain": [
       "'Алёна Викторовна, даже не думайте, мне очень дорого Ваше мнение, и так, как и я раскрываюсь Вам правдиво и искренне, точно так же я ценю и Ваше искреннее и правдивое мнение, мысли, вопросы и советы. Без этого наше общение было бы абсолютно бесполезным. Прошло совсем немного времени, как мы с Вами общаемся, а я каждый день чувствую непреодолимое желание заглянуть на сайт в надежде на новые Ваши сообщения)Отзыв из текста демо-консультации на форумеБыла 1 демо-консультация с пользователем.'"
      ]
     },
     "execution_count": 66,
     "metadata": {},
     "output_type": "execute_result"
    }
   ],
   "source": [
    "max(soup.find_all('div', class_='response_list')[62].text.splitlines()) #можно так, но это непрактично."
   ]
  },
  {
   "cell_type": "code",
   "execution_count": 877,
   "metadata": {},
   "outputs": [],
   "source": []
  },
  {
   "cell_type": "code",
   "execution_count": null,
   "metadata": {},
   "outputs": [],
   "source": []
  },
  {
   "cell_type": "code",
   "execution_count": null,
   "metadata": {},
   "outputs": [],
   "source": []
  },
  {
   "cell_type": "code",
   "execution_count": 209,
   "metadata": {},
   "outputs": [],
   "source": []
  },
  {
   "cell_type": "code",
   "execution_count": 249,
   "metadata": {},
   "outputs": [],
   "source": []
  },
  {
   "cell_type": "code",
   "execution_count": 65,
   "metadata": {},
   "outputs": [],
   "source": [
    "all_text = soup.find_all('div', {\"class\" : \"response_list\"})[3].find('div', class_='t').text #выгружает корректно!\n",
    "#и сохраняется количество комментариев. Но смешивается ответ психолога с отзывом."
   ]
  },
  {
   "cell_type": "code",
   "execution_count": null,
   "metadata": {},
   "outputs": [],
   "source": []
  },
  {
   "cell_type": "code",
   "execution_count": 250,
   "metadata": {},
   "outputs": [],
   "source": []
  },
  {
   "cell_type": "code",
   "execution_count": 67,
   "metadata": {},
   "outputs": [
    {
     "data": {
      "text/plain": [
       "'Спасибо за ваш отклик. Да, первичная консультация по телефону бесплатная. Это помощь и ориентации в проблематике.К сожалению, я не консультирую бесплатно, кроме дело-консультации на форуме.'"
      ]
     },
     "execution_count": 67,
     "metadata": {},
     "output_type": "execute_result"
    }
   ],
   "source": [
    "all_text.split('Ответ специалиста:')[1] #разделяем. Отлично, работает."
   ]
  },
  {
   "cell_type": "code",
   "execution_count": 20,
   "metadata": {},
   "outputs": [],
   "source": []
  },
  {
   "cell_type": "code",
   "execution_count": 267,
   "metadata": {},
   "outputs": [],
   "source": []
  },
  {
   "cell_type": "code",
   "execution_count": 277,
   "metadata": {},
   "outputs": [],
   "source": [
    "# я очень постепенно убирал всё лишнее из строки. И только так смог выгрузить их. Наверное, можно было сделать и покороче. Но работает беспрекословно, ошибок не выдаёт.\n",
    "def city_find(a = soup.find_all('div', class_='status-grey')):\n",
    "    cities = []\n",
    "    for i in a:\n",
    "        cities.append(i.text)\n",
    "    cities_clean = []\n",
    "\n",
    "    for i in cities:\n",
    "        for j in i.split('г. ')[1:]:\n",
    "            cities_clean.append([x.strip() for x in j.split(',')])\n",
    "\n",
    "    cities_row = []\n",
    "    for i in cities_clean:\n",
    "        for j in i:\n",
    "            if j == '':\n",
    "                del j\n",
    "            else:\n",
    "                cities_row.append(j)\n",
    "    return [', '.join(cities_row)]"
   ]
  },
  {
   "cell_type": "code",
   "execution_count": null,
   "metadata": {},
   "outputs": [],
   "source": [
    "# получает кусок текста всех отзывов + ответы одной страницы. Делит на отзыв и ответ специалиста. И возвращает два листа с отзывами и комментариями.\n",
    "# отзывы и ответы одной длины. При отсутствии ответа в список добавляется пустой элемент.\n",
    "def all_text_clean(all_text):\n",
    "    all_comments = []\n",
    "    all_answers = []\n",
    "    for i in all_text: \n",
    "        if 'Ответ специалиста:' in i:\n",
    "            all_comments.append(i.split('Ответ специалиста:')[0])\n",
    "            all_answers.append(i.split('Ответ специалиста:')[1])\n",
    "        else:\n",
    "            all_comments.append(i)\n",
    "            all_answers.append('')\n",
    "    return all_comments, all_answers"
   ]
  },
  {
   "cell_type": "code",
   "execution_count": null,
   "metadata": {},
   "outputs": [],
   "source": [
    "# убрал упоминания о демо-консультациях. Они вставляются сайтом автоматически. Получаю все отзывы как лист, возвращаю тоже их.\n",
    "def cleaning_list_comments(all_comments):\n",
    "    for i in range(len(all_comments)):\n",
    "        if 'Была 1 демо-консультация' in all_comments[i]:\n",
    "            all_comments[i] = all_comments[i].split('Была 1 демо-консультация')[0]\n",
    "    for i in range(len(all_comments)):\n",
    "        if 'Было 2 демо-консультации с пользователем' in all_comments[i]:\n",
    "            all_comments[i] = all_comments[i].split('Было 2 демо-консультации с пользователем')[0]\n",
    "    for i in range(len(all_comments)):\n",
    "        if 'Отзыв из текста демо-консультации' in all_comments[i]:\n",
    "            all_comments[i] = all_comments[i].split('Отзыв из текста демо-консультации')[0]\n",
    "    return all_comments"
   ]
  },
  {
   "cell_type": "code",
   "execution_count": null,
   "metadata": {},
   "outputs": [],
   "source": [
    "#далее вы увидите много переменных, листов. Их я тестировал вне функции, а потом занёс внутрь."
   ]
  },
  {
   "cell_type": "code",
   "execution_count": 755,
   "metadata": {},
   "outputs": [],
   "source": [
    "# в эту функцию загружаем id вида /something/ . Он выгружает dataframe с отзывами и ещё некоторыми данными этого психолога. Только папочку лучше заранее создать.\n",
    "def table_from_id_psycho(ids):\n",
    "    url = str('https://www.b17.ru' + ids) #link on the web page\n",
    "    page = requests.get(url)\n",
    "    soup = BeautifulSoup(page.content, 'lxml') #выгрузил данные\n",
    "    all_text = []\n",
    "    for i in range(len(soup.find_all('div', {\"class\" : \"response_list\"}))):\n",
    "        all_text.append(soup.find_all('div', {\"class\" : \"response_list\"})[i].find('div', class_='t').text)\n",
    " #разделил комментарии   \n",
    "    a = 2 + np.random.randn()\n",
    "    if a < 0:\n",
    "        time.sleep(2)\n",
    "    else:\n",
    "        time.sleep(a)\n",
    "# необходима пауза, чтобы сайт не заблочил. Я такую ошибку сделал лишь однажды. Теперь на дубковском интернете b17 заблочен forever\n",
    "    all_comments, all_answers = all_text_clean(all_text)\n",
    "# разделил отзывы\n",
    "# далее я выгружаю ещё некоторые данные. Так как там может их не быть, выпадает ошибка. Поэтому использую такую конструкцию.\n",
    "    try:\n",
    "        numberPubl = int(soup.find_all(id ='vkl_article')[0].find(class_='n').text)\n",
    "    except:\n",
    "        numberPubl = 'error'\n",
    "    try:\n",
    "        numberOtz = int(soup.find_all(id ='vkl_otzyv')[0].find(class_='n').text) \n",
    "    except:\n",
    "        numberOtz = 'error'\n",
    "    try:\n",
    "        numberObratilis = int(soup.find_all(class_='box-admin')[0].text.split(' ')[1])\n",
    "    except:\n",
    "        numberObratilis = 'error'\n",
    "    try:\n",
    "        numberOnlKons = int(soup.find_all(class_='box-admin')[1].text.split(' ')[1])\n",
    "    except:        \n",
    "        numberOnlKons = 'error'\n",
    "# город и длина всех отзывов, чтобы растянуть значения такие, как город и цифры.\n",
    "    city = city_find(soup.find_all('div', class_='status-grey'))\n",
    "    lenl = len(all_comments)\n",
    "    \n",
    "    return pd.DataFrame({'Comments': cleaning_list_comments(all_comments), 'Answers': all_answers, 'Link': [url]*lenl, 'Cities': city*lenl, 'Number of publications':[numberPubl]*lenl, 'Number of comments':[numberOtz]*lenl, 'Обратились': [numberObratilis]*lenl, 'Number of consultations': [numberOnlKons]*lenl})\n",
    "# .to_excel(r'C:\\Users\\Professional\\Jupyter Notebooks\\parsPsy_left_comrades\\{}.xlsx'.format(ids[1:len(ids)-1]), index = False) Лучше выгружать в файл вне функции, так как мультифункциональность внутри одной функции не есть хорошо.\n",
    "# , 'comrad': [list_of_equal_work_change.pop()]*lenl Я распределял сначала работу прямо здесь, но это непрактично."
   ]
  },
  {
   "cell_type": "code",
   "execution_count": 343,
   "metadata": {},
   "outputs": [],
   "source": []
  },
  {
   "cell_type": "code",
   "execution_count": 5,
   "metadata": {},
   "outputs": [],
   "source": []
  },
  {
   "cell_type": "code",
   "execution_count": 388,
   "metadata": {},
   "outputs": [],
   "source": [
    "# я уже забываю для чего мне нужны были функции ниже"
   ]
  },
  {
   "cell_type": "code",
   "execution_count": null,
   "metadata": {},
   "outputs": [],
   "source": [
    "# у нас есть словарь с id на каждой странице. Мы загружаем страницу, а он нам все id на этой странице.\n",
    "def ids_on_page(page):\n",
    "    return ids_dict[str(page)]"
   ]
  },
  {
   "cell_type": "code",
   "execution_count": 5,
   "metadata": {},
   "outputs": [],
   "source": [
    "try:\n",
    "    os.mkdir('testtest11')\n",
    "except:\n",
    "    pass\n",
    "#код, чтобы создать папку и не получить ошибку в то же время."
   ]
  },
  {
   "cell_type": "code",
   "execution_count": 17,
   "metadata": {},
   "outputs": [],
   "source": []
  },
  {
   "cell_type": "code",
   "execution_count": null,
   "metadata": {},
   "outputs": [],
   "source": [
    "# выгрузка всех id со страницы. Научимся с 1, сделаем для всех остальных. Они однотипные."
   ]
  },
  {
   "cell_type": "code",
   "execution_count": 12,
   "metadata": {},
   "outputs": [],
   "source": [
    "urlMain = 'https://www.b17.ru/otzyv/online/?page=66' "
   ]
  },
  {
   "cell_type": "code",
   "execution_count": 13,
   "metadata": {},
   "outputs": [],
   "source": [
    "pageMain = requests.get(urlMain)"
   ]
  },
  {
   "cell_type": "code",
   "execution_count": 14,
   "metadata": {},
   "outputs": [],
   "source": [
    "soupMain = BeautifulSoup(pageMain.content, 'lxml')"
   ]
  },
  {
   "cell_type": "code",
   "execution_count": 15,
   "metadata": {},
   "outputs": [],
   "source": [
    "endPage = int(soupMain.find(class_='page-list').text.split(' ')[-1]) #так мы можем выгрузить последнюю страницу"
   ]
  },
  {
   "cell_type": "code",
   "execution_count": 18,
   "metadata": {},
   "outputs": [],
   "source": [
    "ids = soupMain.find_all(class_='f') # попытка хорошая, но надо дальше выгружать данные с аттрибутом href"
   ]
  },
  {
   "cell_type": "code",
   "execution_count": 16,
   "metadata": {},
   "outputs": [],
   "source": [
    "pages = np.arange(1, endPage + 1).tolist()"
   ]
  },
  {
   "cell_type": "code",
   "execution_count": 731,
   "metadata": {},
   "outputs": [],
   "source": [
    "basic_url = 'https://www.b17.ru/otzyv/online/?page='"
   ]
  },
  {
   "cell_type": "code",
   "execution_count": 732,
   "metadata": {},
   "outputs": [],
   "source": [
    "all_url_pages = [basic_url + str(i) for i in pages] # список ссылкок на все страницы. От 1 до последней."
   ]
  },
  {
   "cell_type": "code",
   "execution_count": null,
   "metadata": {},
   "outputs": [],
   "source": []
  },
  {
   "cell_type": "code",
   "execution_count": 733,
   "metadata": {},
   "outputs": [],
   "source": [
    "# на вход: список полных url на страницы вида 'https://www.b17.ru/otzyv/online/?page=66'\n",
    "# выход: словарь вида {'страница':[список id психологов на этой странице]}\n",
    "def all_url_psychos_with_page(list_of_urls):\n",
    "    ids_dict = {}\n",
    "    for i in list_of_urls:\n",
    "        page = requests.get(i)\n",
    "        soup = BeautifulSoup(page.content, 'lxml')\n",
    "        fastlist = soup.find_all('div', class_='f') # при помощи fastlist я выгружаю собственно id психологов\n",
    "        page_num = i.split('=')[1]\n",
    "        ids_list = []\n",
    "        for i in fastlist:\n",
    "            ids_list.append(i.a.get('href'))\n",
    "        a = 2 + np.random.randn() # рандомный сон\n",
    "        if a < 0:\n",
    "            time.sleep(2)\n",
    "        else:\n",
    "            time.sleep(a)\n",
    "#         print(len(ids_dict), page_num, ids_list[0]) Это проверка работоспособности в реальном времени.\n",
    "        ids_dict[page_num] = ids_list\n",
    "    return ids_dict"
   ]
  },
  {
   "cell_type": "code",
   "execution_count": 20,
   "metadata": {},
   "outputs": [],
   "source": [
    "ids_dict = all_url_psychos_with_page(all_url_pages)"
   ]
  },
  {
   "cell_type": "code",
   "execution_count": null,
   "metadata": {},
   "outputs": [],
   "source": []
  },
  {
   "cell_type": "code",
   "execution_count": 865,
   "metadata": {},
   "outputs": [],
   "source": [
    "with open(\"ids_dict_09_03.txt\", \"w\") as f:\n",
    "    f.write(str(ids_dict))\n",
    "#так мы можем сохранить словарь локально, потому что список выгружается около 15 минут."
   ]
  },
  {
   "cell_type": "code",
   "execution_count": 6,
   "metadata": {},
   "outputs": [],
   "source": [
    "dict08 = {}\n",
    "with open(\"ids_dict_08_03.txt\", \"r\") as f:\n",
    "    dict08 = eval(f.read())\n",
    "# а так выгружаем словарь из файла."
   ]
  },
  {
   "cell_type": "code",
   "execution_count": 866,
   "metadata": {},
   "outputs": [],
   "source": [
    "# all_id_unique = pd.Series(all_id).unique()"
   ]
  },
  {
   "cell_type": "code",
   "execution_count": 738,
   "metadata": {},
   "outputs": [],
   "source": [
    "# получает словарь как из all_url_psychos_with_page(), и возвращает список всех id\n",
    "def all_id(some_dict):\n",
    "    all_id = []\n",
    "    for i in range(1, len(ids_dict) + 1):\n",
    "        for j in ids_dict[str(i)]:\n",
    "            all_id.append(j)\n",
    "    return all_id"
   ]
  },
  {
   "cell_type": "code",
   "execution_count": 739,
   "metadata": {},
   "outputs": [],
   "source": [
    "all_id_unique = pd.Series(all_id(ids_dict)).unique() #так находим уникальные id"
   ]
  },
  {
   "cell_type": "code",
   "execution_count": 432,
   "metadata": {},
   "outputs": [
    {
     "data": {
      "text/plain": [
       "/cvetkova_ni/        149\n",
       "/a_vyukov/           108\n",
       "/kuzmichev/           98\n",
       "/a2n/                 96\n",
       "/volira/              94\n",
       "                    ... \n",
       "/merilyn1981/          3\n",
       "/volgina/              2\n",
       "/sergeeva_milena/      1\n",
       "/qweasd/               1\n",
       "/chvalun/              1\n",
       "Length: 297, dtype: int64"
      ]
     },
     "execution_count": 432,
     "metadata": {},
     "output_type": "execute_result"
    }
   ],
   "source": [
    "pd.Series(all_id(ids_dict)).value_counts() # ага, повторы есть"
   ]
  },
  {
   "cell_type": "code",
   "execution_count": null,
   "metadata": {},
   "outputs": [],
   "source": [
    "len(all_id_unique) # что выдаст 297. Всего 297 психологов, а список id подряд длины около 7300."
   ]
  },
  {
   "cell_type": "code",
   "execution_count": 294,
   "metadata": {},
   "outputs": [],
   "source": [
    "with open(\"ids_unique.txt\", \"w\") as f:\n",
    "    for s in all_id_unique:\n",
    "        f.write(str(s) +\"\\n\")\n",
    "# так я ещё и сохранил уникальные id в файл."
   ]
  },
  {
   "cell_type": "code",
   "execution_count": 322,
   "metadata": {},
   "outputs": [],
   "source": [
    "list_unique_ids = []\n",
    "with open(\"ids_unique.txt\", \"r\") as f:\n",
    "    for line in f:\n",
    "        list_unique_ids.append(line.strip())"
   ]
  },
  {
   "cell_type": "code",
   "execution_count": null,
   "metadata": {},
   "outputs": [],
   "source": [
    "# так как рационально запарсить? Всего 297 id, мы по ним проходимся и выгружаем 297 таблицы excel."
   ]
  },
  {
   "cell_type": "code",
   "execution_count": null,
   "metadata": {},
   "outputs": [],
   "source": [
    "for i in all_id_unique:\n",
    "    table_from_id_psycho(i).to_excel(r'C:\\Users\\Professional\\Jupyter Notebooks\\parsPsyAll297\\{}.xlsx'.format(i[1:len(i)-1]), index = False)"
   ]
  },
  {
   "cell_type": "code",
   "execution_count": null,
   "metadata": {},
   "outputs": [],
   "source": [
    "#спустя минут 15 выгрузятся все 297 психолога. Отлично!"
   ]
  },
  {
   "cell_type": "code",
   "execution_count": 150,
   "metadata": {},
   "outputs": [],
   "source": []
  },
  {
   "cell_type": "code",
   "execution_count": null,
   "metadata": {},
   "outputs": [],
   "source": [
    "# далее я разбираюсь с тем, какую кому страницу кодировать. Ведь парсер не всё умеет копировать. Для остального нужны люди."
   ]
  },
  {
   "cell_type": "code",
   "execution_count": 22,
   "metadata": {},
   "outputs": [],
   "source": [
    "comrads = pd.read_excel('comrads.xlsx') # Да, правильно писать comrades. Это моя ошибка.\n",
    "comrads = comrads.iloc[:, 1:3]"
   ]
  },
  {
   "cell_type": "code",
   "execution_count": 24,
   "metadata": {},
   "outputs": [
    {
     "data": {
      "text/html": [
       "<div>\n",
       "<style scoped>\n",
       "    .dataframe tbody tr th:only-of-type {\n",
       "        vertical-align: middle;\n",
       "    }\n",
       "\n",
       "    .dataframe tbody tr th {\n",
       "        vertical-align: top;\n",
       "    }\n",
       "\n",
       "    .dataframe thead th {\n",
       "        text-align: right;\n",
       "    }\n",
       "</style>\n",
       "<table border=\"1\" class=\"dataframe\">\n",
       "  <thead>\n",
       "    <tr style=\"text-align: right;\">\n",
       "      <th></th>\n",
       "      <th>Учащийся</th>\n",
       "      <th>страницы выдачи отзывов. От следующей страницы предыдущего участника до указанной (только кодируют)</th>\n",
       "    </tr>\n",
       "  </thead>\n",
       "  <tbody>\n",
       "    <tr>\n",
       "      <th>0</th>\n",
       "      <td>Аблямитова Милена</td>\n",
       "      <td>2</td>\n",
       "    </tr>\n",
       "    <tr>\n",
       "      <th>1</th>\n",
       "      <td>Ананьева Евдокия</td>\n",
       "      <td>4</td>\n",
       "    </tr>\n",
       "    <tr>\n",
       "      <th>2</th>\n",
       "      <td>Белоусова Алена</td>\n",
       "      <td>6</td>\n",
       "    </tr>\n",
       "    <tr>\n",
       "      <th>3</th>\n",
       "      <td>Болдыгин Даниил</td>\n",
       "      <td>8</td>\n",
       "    </tr>\n",
       "  </tbody>\n",
       "</table>\n",
       "</div>"
      ],
      "text/plain": [
       "            Учащийся  \\\n",
       "0  Аблямитова Милена   \n",
       "1   Ананьева Евдокия   \n",
       "2    Белоусова Алена   \n",
       "3    Болдыгин Даниил   \n",
       "\n",
       "  страницы выдачи отзывов. От следующей страницы предыдущего участника до указанной (только кодируют)  \n",
       "0                                                  2                                                   \n",
       "1                                                  4                                                   \n",
       "2                                                  6                                                   \n",
       "3                                                  8                                                   "
      ]
     },
     "execution_count": 24,
     "metadata": {},
     "output_type": "execute_result"
    }
   ],
   "source": [
    "comrads.head(4)"
   ]
  },
  {
   "cell_type": "code",
   "execution_count": 25,
   "metadata": {},
   "outputs": [],
   "source": [
    "columns_double = [x for x in list(comrads.iloc[:,1]) if type(x) == int]  # создаю дубль колонки со страницами."
   ]
  },
  {
   "cell_type": "code",
   "execution_count": 26,
   "metadata": {},
   "outputs": [],
   "source": [
    "columns_double.insert(0, 0) #и её сдвигаю."
   ]
  },
  {
   "cell_type": "code",
   "execution_count": 27,
   "metadata": {},
   "outputs": [],
   "source": [
    "comrads['first'] = pd.Series(map(lambda x: 1 + x, columns_double)) # теперь они стоят рядом, правда тип в first float, но эти значения временные всё равно."
   ]
  },
  {
   "cell_type": "code",
   "execution_count": 28,
   "metadata": {},
   "outputs": [
    {
     "data": {
      "text/html": [
       "<div>\n",
       "<style scoped>\n",
       "    .dataframe tbody tr th:only-of-type {\n",
       "        vertical-align: middle;\n",
       "    }\n",
       "\n",
       "    .dataframe tbody tr th {\n",
       "        vertical-align: top;\n",
       "    }\n",
       "\n",
       "    .dataframe thead th {\n",
       "        text-align: right;\n",
       "    }\n",
       "</style>\n",
       "<table border=\"1\" class=\"dataframe\">\n",
       "  <thead>\n",
       "    <tr style=\"text-align: right;\">\n",
       "      <th></th>\n",
       "      <th>Учащийся</th>\n",
       "      <th>страницы выдачи отзывов. От следующей страницы предыдущего участника до указанной (только кодируют)</th>\n",
       "      <th>first</th>\n",
       "    </tr>\n",
       "  </thead>\n",
       "  <tbody>\n",
       "    <tr>\n",
       "      <th>0</th>\n",
       "      <td>Аблямитова Милена</td>\n",
       "      <td>2</td>\n",
       "      <td>1.0</td>\n",
       "    </tr>\n",
       "    <tr>\n",
       "      <th>1</th>\n",
       "      <td>Ананьева Евдокия</td>\n",
       "      <td>4</td>\n",
       "      <td>3.0</td>\n",
       "    </tr>\n",
       "    <tr>\n",
       "      <th>2</th>\n",
       "      <td>Белоусова Алена</td>\n",
       "      <td>6</td>\n",
       "      <td>5.0</td>\n",
       "    </tr>\n",
       "    <tr>\n",
       "      <th>3</th>\n",
       "      <td>Болдыгин Даниил</td>\n",
       "      <td>8</td>\n",
       "      <td>7.0</td>\n",
       "    </tr>\n",
       "    <tr>\n",
       "      <th>4</th>\n",
       "      <td>Веселовский Леонид</td>\n",
       "      <td>10</td>\n",
       "      <td>9.0</td>\n",
       "    </tr>\n",
       "  </tbody>\n",
       "</table>\n",
       "</div>"
      ],
      "text/plain": [
       "             Учащийся  \\\n",
       "0   Аблямитова Милена   \n",
       "1    Ананьева Евдокия   \n",
       "2     Белоусова Алена   \n",
       "3     Болдыгин Даниил   \n",
       "4  Веселовский Леонид   \n",
       "\n",
       "  страницы выдачи отзывов. От следующей страницы предыдущего участника до указанной (только кодируют)  \\\n",
       "0                                                  2                                                    \n",
       "1                                                  4                                                    \n",
       "2                                                  6                                                    \n",
       "3                                                  8                                                    \n",
       "4                                                 10                                                    \n",
       "\n",
       "   first  \n",
       "0    1.0  \n",
       "1    3.0  \n",
       "2    5.0  \n",
       "3    7.0  \n",
       "4    9.0  "
      ]
     },
     "execution_count": 28,
     "metadata": {},
     "output_type": "execute_result"
    }
   ],
   "source": [
    "comrads.head(5)"
   ]
  },
  {
   "cell_type": "code",
   "execution_count": 29,
   "metadata": {},
   "outputs": [],
   "source": [
    "# Функция получает весь dataframe, потом возвращает лист с листами из страниц каждого учащегося\n",
    "def list_of_pages(comrads): \n",
    "    comrads_temp = comrads.iloc[:174, 1:]\n",
    "    b = []\n",
    "    for i in range(174):\n",
    "        first = int(comrads_temp.iloc[i, 1])\n",
    "        end = int(comrads_temp.iloc[i, 0])\n",
    "        k = []\n",
    "        for i in range(first, end + 1):\n",
    "            k.append(i)\n",
    "        b.append(k)\n",
    "    return b"
   ]
  },
  {
   "cell_type": "code",
   "execution_count": 30,
   "metadata": {},
   "outputs": [],
   "source": [
    "all_list_of_pages = list_of_pages(comrads)"
   ]
  },
  {
   "cell_type": "code",
   "execution_count": 31,
   "metadata": {},
   "outputs": [],
   "source": [
    "comrads = comrads.rename(columns = {'страницы выдачи отзывов. От следующей страницы предыдущего участника до указанной (только кодируют)' : 'end', 'double_pages':'first'})"
   ]
  },
  {
   "cell_type": "code",
   "execution_count": 32,
   "metadata": {},
   "outputs": [],
   "source": [
    "comrads['pages'] = pd.Series(all_list_of_pages)"
   ]
  },
  {
   "cell_type": "code",
   "execution_count": 33,
   "metadata": {},
   "outputs": [],
   "source": [
    "comrads = comrads.iloc[:174, :]"
   ]
  },
  {
   "cell_type": "code",
   "execution_count": 34,
   "metadata": {},
   "outputs": [
    {
     "data": {
      "text/html": [
       "<div>\n",
       "<style scoped>\n",
       "    .dataframe tbody tr th:only-of-type {\n",
       "        vertical-align: middle;\n",
       "    }\n",
       "\n",
       "    .dataframe tbody tr th {\n",
       "        vertical-align: top;\n",
       "    }\n",
       "\n",
       "    .dataframe thead th {\n",
       "        text-align: right;\n",
       "    }\n",
       "</style>\n",
       "<table border=\"1\" class=\"dataframe\">\n",
       "  <thead>\n",
       "    <tr style=\"text-align: right;\">\n",
       "      <th></th>\n",
       "      <th>Учащийся</th>\n",
       "      <th>end</th>\n",
       "      <th>first</th>\n",
       "      <th>pages</th>\n",
       "    </tr>\n",
       "  </thead>\n",
       "  <tbody>\n",
       "    <tr>\n",
       "      <th>32</th>\n",
       "      <td>Ермаков Павел</td>\n",
       "      <td>66</td>\n",
       "      <td>65.0</td>\n",
       "      <td>[65, 66]</td>\n",
       "    </tr>\n",
       "  </tbody>\n",
       "</table>\n",
       "</div>"
      ],
      "text/plain": [
       "         Учащийся end  first     pages\n",
       "32  Ермаков Павел  66   65.0  [65, 66]"
      ]
     },
     "execution_count": 34,
     "metadata": {},
     "output_type": "execute_result"
    }
   ],
   "source": [
    "comrads[comrads.Учащийся.str.contains('Ерм')] # и выписываю 32 в следующие листы"
   ]
  },
  {
   "cell_type": "code",
   "execution_count": 35,
   "metadata": {},
   "outputs": [],
   "source": [
    "comrads_id_list = [32] # и так далее, здесь хранятся id учащихся. Это кто с самого начала присутствовал. Их нет, потому что я не хочу разглашать имена."
   ]
  },
  {
   "cell_type": "code",
   "execution_count": 19,
   "metadata": {},
   "outputs": [],
   "source": [
    "left_comrades = [] # им я выделил оставшихся психологов"
   ]
  },
  {
   "cell_type": "code",
   "execution_count": 32,
   "metadata": {},
   "outputs": [],
   "source": [
    "add_comrades = [] # кто присоединился к основной таблице, но позже"
   ]
  },
  {
   "cell_type": "code",
   "execution_count": 21,
   "metadata": {},
   "outputs": [
    {
     "data": {
      "text/plain": [
       "21"
      ]
     },
     "execution_count": 21,
     "metadata": {},
     "output_type": "execute_result"
    }
   ],
   "source": []
  },
  {
   "cell_type": "code",
   "execution_count": 36,
   "metadata": {},
   "outputs": [
    {
     "data": {
      "text/html": [
       "<div>\n",
       "<style scoped>\n",
       "    .dataframe tbody tr th:only-of-type {\n",
       "        vertical-align: middle;\n",
       "    }\n",
       "\n",
       "    .dataframe tbody tr th {\n",
       "        vertical-align: top;\n",
       "    }\n",
       "\n",
       "    .dataframe thead th {\n",
       "        text-align: right;\n",
       "    }\n",
       "</style>\n",
       "<table border=\"1\" class=\"dataframe\">\n",
       "  <thead>\n",
       "    <tr style=\"text-align: right;\">\n",
       "      <th></th>\n",
       "      <th>Учащийся</th>\n",
       "      <th>pages</th>\n",
       "    </tr>\n",
       "  </thead>\n",
       "  <tbody>\n",
       "    <tr>\n",
       "      <th>32</th>\n",
       "      <td>Ермаков Павел</td>\n",
       "      <td>[65, 66]</td>\n",
       "    </tr>\n",
       "  </tbody>\n",
       "</table>\n",
       "</div>"
      ],
      "text/plain": [
       "         Учащийся     pages\n",
       "32  Ермаков Павел  [65, 66]"
      ]
     },
     "execution_count": 36,
     "metadata": {},
     "output_type": "execute_result"
    }
   ],
   "source": [
    "comrads.iloc[comrads_id_list,:].drop(['end','first'],axis = 1).sort_values(by = 'pages')"
   ]
  },
  {
   "cell_type": "code",
   "execution_count": 24,
   "metadata": {},
   "outputs": [],
   "source": [
    "# получает таблицу сomrads и список учащихся. Выгружает список всех страниц.\n",
    "def all_pages(comrads, list_of_comrads = comrads_id_list):\n",
    "    all_pages = []\n",
    "    for i in comrads.iloc[list_of_comrads,:]['pages']:\n",
    "        for j in i:\n",
    "            all_pages.append(j)\n",
    "    return all_pages"
   ]
  },
  {
   "cell_type": "code",
   "execution_count": 25,
   "metadata": {},
   "outputs": [],
   "source": [
    "# получает список всех страниц, выгружает список всех id психологов\n",
    "def all_ids_by_pages(all_pages):\n",
    "    all_test_ids = []\n",
    "    for i in all_pages(comrads):\n",
    "        all_test_ids.append(ids_on_page(i)) # здесь красивее было бы использовать extend, а не append\n",
    "    return [x for y in all_test_ids for x in y]"
   ]
  },
  {
   "cell_type": "code",
   "execution_count": null,
   "metadata": {},
   "outputs": [],
   "source": [
    "# получает список всех id, возвращает только уникальные. set() тоже должен неплохо работать, но ладно.\n",
    "def all_ids_by_pages_unique(ids_all):\n",
    "    return pd.Series(ids_all).unique()"
   ]
  },
  {
   "cell_type": "code",
   "execution_count": 742,
   "metadata": {},
   "outputs": [
    {
     "data": {
      "text/plain": [
       "261"
      ]
     },
     "execution_count": 742,
     "metadata": {},
     "output_type": "execute_result"
    }
   ],
   "source": [
    "len(all_ids_by_pages_unique(all_ids_by_pages(all_pages))) # я вообще кричал. Думал, что можно сделать это дело рационально.\n",
    "# но не так много людей покрыли почти всех психологов (87.9%)"
   ]
  },
  {
   "cell_type": "code",
   "execution_count": 476,
   "metadata": {},
   "outputs": [],
   "source": [
    "# получает полную таблицу учащихся. Возвращает список с именами людей, растянутыми на всех психологов (261).\n",
    "def list_of_equal_work(comrads, comrads_list = comrads_id_list):\n",
    "    list_of_working_comrads = [x for x in comrads.iloc[comrads_list,0]]\n",
    "    list_of_working_comrads.remove('Ермаков Павел')  # у него других дел немало))\n",
    "    list_all_work = []\n",
    "    min_work = len(all_ids_by_pages_unique(all_ids_by_pages(all_pages))) // len(list_of_working_comrads) + 1\n",
    "    left_work = len(all_ids_by_pages_unique(all_ids_by_pages(all_pages))) - (len(list_of_working_comrads) - 1) * min_work\n",
    "    for i in list_of_working_comrads:\n",
    "        if i == 'Здесь имя одного человека': # он получит остаток психологов\n",
    "            list_all_work.extend([i]*left_work)\n",
    "        else:\n",
    "            list_all_work.extend([i]*min_work)\n",
    "            # я заменил append на extend для лаконичности, должно работать.\n",
    "#     for i in list_of_working_comrads:\n",
    "#         if i == '':\n",
    "#             list_all_work.append([i]*left_work)\n",
    "#         else:\n",
    "#             list_all_work.append([i]*min_work)\n",
    "#     return [x for y in list_all_work for x in y]\n",
    "    return list_all_work"
   ]
  },
  {
   "cell_type": "code",
   "execution_count": 518,
   "metadata": {},
   "outputs": [],
   "source": [
    "list_of_equal_work_change = list_of_equal_work(comrads)"
   ]
  },
  {
   "cell_type": "code",
   "execution_count": 529,
   "metadata": {},
   "outputs": [],
   "source": [
    "# я работу распределял при парсинге, но мне кажется, что это неправильно, я удалил, поэтому кода нет. Только в комментах под той большой функцией. Лучше создать полную таблицу.\n",
    "# в ней сгруппировать по id психологов и так же рассчитать количество работы, не забыть убрать сортировку, которая стоит по умолчанию."
   ]
  },
  {
   "cell_type": "code",
   "execution_count": null,
   "metadata": {},
   "outputs": [],
   "source": [
    "# код ниже отвечает за то, чтобы собрать все файлы вместе в один. А потом из одного сделать много отдельных файлов."
   ]
  },
  {
   "cell_type": "code",
   "execution_count": 24,
   "metadata": {},
   "outputs": [],
   "source": [
    "# даю список id, он возвращает список dataframes, выгруженных локально.\n",
    "def list_of_tables(all_ids):\n",
    "    table = []\n",
    "    for i in all_ids:\n",
    "        i = i.strip('/')\n",
    "        table.append(pd.read_excel(r'C:\\Users\\Professional\\Jupyter Notebooks\\parsPsy7\\{}.xlsx'.format(i))) # прописываем папку с отдельными файлами\n",
    "    return table"
   ]
  },
  {
   "cell_type": "code",
   "execution_count": 525,
   "metadata": {},
   "outputs": [],
   "source": [
    "table_of_comrads = list_of_tables(all_ids_by_pages_unique(all_ids_by_pages(all_pages)))\n",
    "# это лист таблиц с уникальными психологами, которые и необходимы для минимализации работы."
   ]
  },
  {
   "cell_type": "code",
   "execution_count": 25,
   "metadata": {},
   "outputs": [],
   "source": [
    "# эта функция берёт лист таблиц, объединяет и сохраняет локально.\n",
    "def table_list_to_xlsx(table, name):\n",
    "    os.mkdir(str(name))\n",
    "    pd.concat(table, axis = 0).to_excel(r'C:\\Users\\Professional\\Jupyter Notebooks\\{}\\{}.xlsx'.format(name, name), index = False)"
   ]
  },
  {
   "cell_type": "code",
   "execution_count": 526,
   "metadata": {},
   "outputs": [],
   "source": [
    "table_list_to_xlsx(table_of_comrads, 'final') # на выходе один файл, около 9300 строк."
   ]
  },
  {
   "cell_type": "code",
   "execution_count": null,
   "metadata": {},
   "outputs": [],
   "source": []
  },
  {
   "cell_type": "code",
   "execution_count": 34,
   "metadata": {},
   "outputs": [],
   "source": [
    "# возвращает словарь с именем студента и листом его психологов.\n",
    "# но перед этим надо запарсить словарь с ссылками на психологов на всех страницах.\n",
    "def dict_of_ids_of_each_comrad(comrads, what_dict, comrads_list = comrads_id_list):\n",
    "    df_basic = comrads.iloc[comrads_list,:].drop(['end','first'], axis = 1).sort_values(by = 'pages')\n",
    "    dict_of_ids = {}\n",
    "    for i in range(len(df_basic)):\n",
    "        dict_of_ids[df_basic.iloc[i, 0]] = ids_on_list_of_pages(df_basic.iloc[i, 1], what_dict)\n",
    "    return dict_of_ids"
   ]
  },
  {
   "cell_type": "code",
   "execution_count": 35,
   "metadata": {},
   "outputs": [],
   "source": [
    "# получает лист страниц. А возвращает лист всех id на этих страницах.\n",
    "def ids_on_list_of_pages(list_of_pages, what_dict):\n",
    "    fastlist = []\n",
    "    for i in list_of_pages:\n",
    "        fastlist.append(what_dict[str(i)]) # вроде можно упростить при помощи extend, но здесь уже не рискую.\n",
    "    return [x for y in fastlist for x in y]"
   ]
  },
  {
   "cell_type": "code",
   "execution_count": 602,
   "metadata": {},
   "outputs": [],
   "source": [
    "# for key, value in dict1.items():\n",
    "#     print(key, value)"
   ]
  },
  {
   "cell_type": "code",
   "execution_count": 52,
   "metadata": {},
   "outputs": [],
   "source": [
    "# получает список dataframe, объединяет и сохраняет локально.\n",
    "def table_list_to_xlsx(table, name, name_root = 'final'):\n",
    "    pd.concat(table, axis = 0).to_excel(r'C:\\Users\\Professional\\Jupyter Notebooks\\{}\\{}.xlsx'.format(name_root, name), index = False)"
   ]
  },
  {
   "cell_type": "code",
   "execution_count": 55,
   "metadata": {},
   "outputs": [],
   "source": [
    "# финишная функция! Выгружает по отдельным файлам нужных психологов с нужным именем файла.\n",
    "def all_tables_final(table, what_dict, comrads_list = comrads_id_list, name_root = 'all_final'):\n",
    "    try:\n",
    "        os.mkdir(name_root)\n",
    "    except:\n",
    "        pass\n",
    "    dict_all = dict_of_ids_of_each_comrad(comrads, what_dict)\n",
    "    for key, values in dict_all.items():\n",
    "        list_of_tables_final_one = []\n",
    "        for i in values:\n",
    "            list_of_tables_final_one.append(table[table.iloc[:,3].str.contains(i)])\n",
    "        table_list_to_xlsx(list_of_tables_final_one, name = key, name_root)"
   ]
  },
  {
   "cell_type": "code",
   "execution_count": 56,
   "metadata": {},
   "outputs": [],
   "source": [
    "all_tables_final(table_1, dict1, comrads_list = comrads_id_list, name_root = 'final3_test')\n",
    "# выгружает в папку много файлов с именами студентов, that's it."
   ]
  },
  {
   "cell_type": "code",
   "execution_count": null,
   "metadata": {},
   "outputs": [],
   "source": []
  },
  {
   "cell_type": "code",
   "execution_count": null,
   "metadata": {},
   "outputs": [],
   "source": [
    "# далее рисовалка прогресса заполнения."
   ]
  },
  {
   "cell_type": "code",
   "execution_count": 5,
   "metadata": {},
   "outputs": [],
   "source": [
    "table_1 = pd.read_excel(r'C:\\Users\\Professional\\Downloads\\final.xlsx') # я скачивал свою таблицу"
   ]
  },
  {
   "cell_type": "code",
   "execution_count": 6,
   "metadata": {},
   "outputs": [],
   "source": [
    "def bar_comments(table_1):\n",
    "    return (table_1.groupby('comrade').agg('count').iloc[:,1] / table_1.groupby('comrade').agg('count').iloc[:,0]).sort_values(ascending = False).plot.bar()"
   ]
  },
  {
   "cell_type": "code",
   "execution_count": 41,
   "metadata": {},
   "outputs": [],
   "source": [
    "bar_comments(table_1) # эти функции рисуют таблицы успеваемости по некоторым колонкам"
   ]
  },
  {
   "cell_type": "code",
   "execution_count": 8,
   "metadata": {},
   "outputs": [],
   "source": [
    "def bar_representation(table_test):\n",
    "    return (table_test.drop('comrade', 1).notna().groupby(table_1.comrade).sum() / table_test.drop('comrade', 1).isna().groupby(table_1.comrade).count()).iloc[:,20].sort_values(ascending = False).plot.bar()"
   ]
  },
  {
   "cell_type": "code",
   "execution_count": 40,
   "metadata": {},
   "outputs": [],
   "source": [
    "bar_representation(table_1)"
   ]
  },
  {
   "cell_type": "code",
   "execution_count": 76,
   "metadata": {},
   "outputs": [],
   "source": [
    "# На вход - DataFrame. Он сохраняет в файлы excel с именем студента все отрицательные отзывы с рандомизацией для каждого человека.\n",
    "def all_tables_final_negative(table, comrads_list = comrads_id_list, name_root = 'all_final'):\n",
    "    try:\n",
    "        os.mkdir(name_root)\n",
    "    except:\n",
    "        pass\n",
    "    for i in comrads.iloc[comrads_id_list, 0].tolist():\n",
    "        list_of_tables_final_one = []          \n",
    "        list_of_tables_final_one.append(table[table.iloc[:, 1] == 'о'].sample(frac = 1))\n",
    "        table_list_to_xlsx(list_of_tables_final_one, i, name_root)"
   ]
  },
  {
   "cell_type": "code",
   "execution_count": 77,
   "metadata": {},
   "outputs": [],
   "source": [
    "all_tables_final_negative(table_1, name_root = 'negativeTest') #работает"
   ]
  },
  {
   "cell_type": "code",
   "execution_count": null,
   "metadata": {},
   "outputs": [],
   "source": []
  },
  {
   "cell_type": "code",
   "execution_count": null,
   "metadata": {},
   "outputs": [],
   "source": [
    "# писали люди, и я решил распределить оставшихся психологов. Не, ну а что..."
   ]
  },
  {
   "cell_type": "code",
   "execution_count": 749,
   "metadata": {},
   "outputs": [],
   "source": [
    "razLess = all_ids_by_pages_unique(all_ids_by_pages(all_pages))"
   ]
  },
  {
   "cell_type": "code",
   "execution_count": 748,
   "metadata": {},
   "outputs": [],
   "source": [
    "razMore = all_id_unique"
   ]
  },
  {
   "cell_type": "code",
   "execution_count": 753,
   "metadata": {},
   "outputs": [],
   "source": [
    "ids_for_left_comrades = list(set(razMore) - set(razLess))"
   ]
  },
  {
   "cell_type": "code",
   "execution_count": 761,
   "metadata": {},
   "outputs": [],
   "source": [
    "for i in ids_for_left_comrades:\n",
    "    table_from_id_psycho(i)"
   ]
  },
  {
   "cell_type": "code",
   "execution_count": 765,
   "metadata": {},
   "outputs": [],
   "source": [
    "def list_of_tables_left(all_ids):\n",
    "    table = []\n",
    "    for i in all_ids:\n",
    "        i = i.strip('/')\n",
    "        table.append(pd.read_excel(r'C:\\Users\\Professional\\Jupyter Notebooks\\parsPsy_left_comrades\\{}.xlsx'.format(i)))\n",
    "    return table"
   ]
  },
  {
   "cell_type": "code",
   "execution_count": 766,
   "metadata": {},
   "outputs": [],
   "source": [
    "def table_list_to_xlsx_left(table, name):\n",
    "    os.mkdir(str(name))\n",
    "    pd.concat(table, axis = 0).to_excel(r'C:\\Users\\Professional\\Jupyter Notebooks\\{}\\{}.xlsx'.format(name, name), index = False)"
   ]
  },
  {
   "cell_type": "code",
   "execution_count": 767,
   "metadata": {},
   "outputs": [],
   "source": [
    "table_list_to_xlsx_left(list_of_tables_left(ids_for_left_comrades), '36')"
   ]
  },
  {
   "cell_type": "code",
   "execution_count": 769,
   "metadata": {},
   "outputs": [],
   "source": [
    "table_left = pd.read_excel(r'C:\\Users\\Professional\\Jupyter Notebooks\\36\\36.xlsx')"
   ]
  },
  {
   "cell_type": "code",
   "execution_count": 852,
   "metadata": {},
   "outputs": [],
   "source": [
    "list_of_numbers = table_left.groupby('Link', sort = False).count()['Comments'].values"
   ]
  },
  {
   "cell_type": "code",
   "execution_count": 819,
   "metadata": {},
   "outputs": [],
   "source": [
    "# я тогда приустал, но заставил себя написать какой-то сложный без необходимости генератор для распределения работы. Сейчас он не работает, потому что часть говнокода я убрал."
   ]
  },
  {
   "cell_type": "code",
   "execution_count": 854,
   "metadata": {},
   "outputs": [],
   "source": [
    "list_of_all_num = []\n",
    "for i in range(1,7):\n",
    "    list_of_all_num.extend([i] * list_of_sum[i - 1])"
   ]
  },
  {
   "cell_type": "code",
   "execution_count": 855,
   "metadata": {},
   "outputs": [],
   "source": [
    "final_list_of_num = list_of_all_num"
   ]
  },
  {
   "cell_type": "code",
   "execution_count": 857,
   "metadata": {},
   "outputs": [],
   "source": [
    "table_left['comrades'] = final_list_of_num"
   ]
  },
  {
   "cell_type": "code",
   "execution_count": null,
   "metadata": {},
   "outputs": [],
   "source": [
    "table_left.to_excel(r'C:\\Users\\Professional\\Jupyter Notebooks\\final_left\\final_left.xlsx', index = False)"
   ]
  },
  {
   "cell_type": "code",
   "execution_count": null,
   "metadata": {},
   "outputs": [],
   "source": []
  },
  {
   "cell_type": "code",
   "execution_count": null,
   "metadata": {},
   "outputs": [],
   "source": [
    "# ниже я чистил данные после полного заполнения."
   ]
  },
  {
   "cell_type": "code",
   "execution_count": 38,
   "metadata": {},
   "outputs": [],
   "source": [
    "clean = pd.read_excel(r'C:\\Users\\Professional\\Downloads\\final_left.xlsx', index = False)"
   ]
  },
  {
   "cell_type": "code",
   "execution_count": 39,
   "metadata": {},
   "outputs": [],
   "source": [
    "clean.isna().sum()"
   ]
  },
  {
   "cell_type": "code",
   "execution_count": 79,
   "metadata": {},
   "outputs": [
    {
     "data": {
      "text/plain": [
       "Int64Index([123, 124, 125, 126, 127, 128, 129, 130, 131, 132, 133, 228, 229,\n",
       "            230, 231, 232, 233, 234, 235, 236, 237, 238, 239, 240],\n",
       "           dtype='int64')"
      ]
     },
     "execution_count": 79,
     "metadata": {},
     "output_type": "execute_result"
    }
   ],
   "source": [
    "# clean[clean.iloc[:, 0].isna()]\n",
    "# clean[clean.iloc[:, 4].isna()]\n",
    "# clean[clean.iloc[:, 5].isna()].index + 2\n",
    "a = 'количество онлайн-консультаций (число)'\n",
    "b = 'Количество отзывов'\n",
    "c = 'количество обратившихся'\n",
    "d = 'Количество публикаций на b17'\n",
    "clean[clean['количество курсов повышения квалификации (число)'].isna()].index + 2"
   ]
  },
  {
   "cell_type": "code",
   "execution_count": 49,
   "metadata": {},
   "outputs": [
    {
     "data": {
      "text/html": [
       "<div>\n",
       "<style scoped>\n",
       "    .dataframe tbody tr th:only-of-type {\n",
       "        vertical-align: middle;\n",
       "    }\n",
       "\n",
       "    .dataframe tbody tr th {\n",
       "        vertical-align: top;\n",
       "    }\n",
       "\n",
       "    .dataframe thead th {\n",
       "        text-align: right;\n",
       "    }\n",
       "</style>\n",
       "<table border=\"1\" class=\"dataframe\">\n",
       "  <thead>\n",
       "    <tr style=\"text-align: right;\">\n",
       "      <th></th>\n",
       "      <th>Unnamed: 0</th>\n",
       "      <th>Разметка отзыва (п - положительный, н - нейтральный, о - отрицательный)</th>\n",
       "      <th>ответ психолога на отзыв</th>\n",
       "      <th>ссылка на профиль\\n</th>\n",
       "      <th>пол (м или ж)</th>\n",
       "      <th>возраст</th>\n",
       "      <th>опыт работы психологом (количество лет, число)</th>\n",
       "      <th>Город</th>\n",
       "      <th>Количество публикаций на b17</th>\n",
       "      <th>Количество отзывов</th>\n",
       "      <th>...</th>\n",
       "      <th>Было ли высшее образование до психологического (ДА/нет)</th>\n",
       "      <th>стоимость одной очной консультации (в рублях)</th>\n",
       "      <th>Проблемы с которыми работает (текст, через точку с запятой)</th>\n",
       "      <th>Психологические школы (текст, через точку с запятой)</th>\n",
       "      <th>Полный текст самопрезентации психолога</th>\n",
       "      <th>comrade</th>\n",
       "      <th>Заполненность описания психологов</th>\n",
       "      <th>Заполненность маркировки отзывов</th>\n",
       "      <th>Описание психологов в основной таблице</th>\n",
       "      <th>Маркировка психологов в основной таблице</th>\n",
       "    </tr>\n",
       "  </thead>\n",
       "  <tbody>\n",
       "    <tr>\n",
       "      <th>139</th>\n",
       "      <td>Обратился к Павлу в трудную минуту и не пожале...</td>\n",
       "      <td>п</td>\n",
       "      <td>Благодарю. Я высоко ценю Вашу оценку!</td>\n",
       "      <td>https://www.b17.ru/stegniy/</td>\n",
       "      <td>NaN</td>\n",
       "      <td>56.0</td>\n",
       "      <td>7</td>\n",
       "      <td>Кременчуг</td>\n",
       "      <td>184.0</td>\n",
       "      <td>12</td>\n",
       "      <td>...</td>\n",
       "      <td>ДА</td>\n",
       "      <td>200.0</td>\n",
       "      <td>самооценка, внутренний конфликт; семейная псих...</td>\n",
       "      <td>Нейро-лингвистическое программирование; Психо...</td>\n",
       "      <td>Практический психолог, психотерапевт, мастер с...</td>\n",
       "      <td>3</td>\n",
       "      <td>NaN</td>\n",
       "      <td>NaN</td>\n",
       "      <td>NaN</td>\n",
       "      <td>NaN</td>\n",
       "    </tr>\n",
       "    <tr>\n",
       "      <th>151</th>\n",
       "      <td>Спасибо Анастасии! Очень выручила меня! Всем с...</td>\n",
       "      <td>п</td>\n",
       "      <td>Сердцем- всегда на связи:)</td>\n",
       "      <td>https://www.b17.ru/avetatur/</td>\n",
       "      <td>NaN</td>\n",
       "      <td>NaN</td>\n",
       "      <td>16</td>\n",
       "      <td>Сургут</td>\n",
       "      <td>72.0</td>\n",
       "      <td>5</td>\n",
       "      <td>...</td>\n",
       "      <td>нет</td>\n",
       "      <td>3000.0</td>\n",
       "      <td>напряжённые отношения и агрессия в паре; разли...</td>\n",
       "      <td>Арт-терапия;Гипнотерапия;Коучинг;Нейро-лингвис...</td>\n",
       "      <td>Здравствуйте, меня зовут Анастасия.\\nСамое важ...</td>\n",
       "      <td>3</td>\n",
       "      <td>NaN</td>\n",
       "      <td>NaN</td>\n",
       "      <td>NaN</td>\n",
       "      <td>NaN</td>\n",
       "    </tr>\n",
       "  </tbody>\n",
       "</table>\n",
       "<p>2 rows × 26 columns</p>\n",
       "</div>"
      ],
      "text/plain": [
       "                                            Unnamed: 0  \\\n",
       "139  Обратился к Павлу в трудную минуту и не пожале...   \n",
       "151  Спасибо Анастасии! Очень выручила меня! Всем с...   \n",
       "\n",
       "    Разметка отзыва (п - положительный, н - нейтральный, о - отрицательный)  \\\n",
       "139                                                  п                        \n",
       "151                                                  п                        \n",
       "\n",
       "                  ответ психолога на отзыв           ссылка на профиль\\n  \\\n",
       "139  Благодарю. Я высоко ценю Вашу оценку!   https://www.b17.ru/stegniy/   \n",
       "151             Сердцем- всегда на связи:)  https://www.b17.ru/avetatur/   \n",
       "\n",
       "    пол (м или ж)  возраст  опыт работы психологом (количество лет, число)  \\\n",
       "139           NaN     56.0                                               7   \n",
       "151           NaN      NaN                                              16   \n",
       "\n",
       "         Город  Количество публикаций на b17  Количество отзывов  ...  \\\n",
       "139  Кременчуг                         184.0                  12  ...   \n",
       "151     Сургут                          72.0                   5  ...   \n",
       "\n",
       "     Было ли высшее образование до психологического (ДА/нет)  \\\n",
       "139                                                 ДА         \n",
       "151                                                нет         \n",
       "\n",
       "     стоимость одной очной консультации (в рублях)  \\\n",
       "139                                          200.0   \n",
       "151                                         3000.0   \n",
       "\n",
       "    Проблемы с которыми работает (текст, через точку с запятой)  \\\n",
       "139  самооценка, внутренний конфликт; семейная псих...            \n",
       "151  напряжённые отношения и агрессия в паре; разли...            \n",
       "\n",
       "    Психологические школы (текст, через точку с запятой)  \\\n",
       "139   Нейро-лингвистическое программирование; Психо...     \n",
       "151  Арт-терапия;Гипнотерапия;Коучинг;Нейро-лингвис...     \n",
       "\n",
       "                Полный текст самопрезентации психолога comrade  \\\n",
       "139  Практический психолог, психотерапевт, мастер с...       3   \n",
       "151  Здравствуйте, меня зовут Анастасия.\\nСамое важ...       3   \n",
       "\n",
       "    Заполненность описания психологов  Заполненность маркировки отзывов  \\\n",
       "139                               NaN                               NaN   \n",
       "151                               NaN                               NaN   \n",
       "\n",
       "    Описание психологов в основной таблице  \\\n",
       "139                                    NaN   \n",
       "151                                    NaN   \n",
       "\n",
       "    Маркировка психологов в основной таблице  \n",
       "139                                      NaN  \n",
       "151                                      NaN  \n",
       "\n",
       "[2 rows x 26 columns]"
      ]
     },
     "execution_count": 49,
     "metadata": {},
     "output_type": "execute_result"
    }
   ],
   "source": [
    "clean[clean.loc['Количество публикаций на b17':''].isna()]"
   ]
  },
  {
   "cell_type": "code",
   "execution_count": null,
   "metadata": {},
   "outputs": [],
   "source": []
  },
  {
   "cell_type": "code",
   "execution_count": null,
   "metadata": {},
   "outputs": [],
   "source": []
  },
  {
   "cell_type": "code",
   "execution_count": 45,
   "metadata": {},
   "outputs": [
    {
     "data": {
      "text/html": [
       "<div>\n",
       "<style scoped>\n",
       "    .dataframe tbody tr th:only-of-type {\n",
       "        vertical-align: middle;\n",
       "    }\n",
       "\n",
       "    .dataframe tbody tr th {\n",
       "        vertical-align: top;\n",
       "    }\n",
       "\n",
       "    .dataframe thead th {\n",
       "        text-align: right;\n",
       "    }\n",
       "</style>\n",
       "<table border=\"1\" class=\"dataframe\">\n",
       "  <thead>\n",
       "    <tr style=\"text-align: right;\">\n",
       "      <th></th>\n",
       "      <th>Unnamed: 0</th>\n",
       "      <th>Разметка отзыва (п - положительный, н - нейтральный, о - отрицательный)</th>\n",
       "      <th>ответ психолога на отзыв</th>\n",
       "      <th>ссылка на профиль\\n</th>\n",
       "      <th>пол (м или ж)</th>\n",
       "      <th>возраст</th>\n",
       "      <th>опыт работы психологом (количество лет, число)</th>\n",
       "      <th>Город</th>\n",
       "      <th>Количество публикаций на b17</th>\n",
       "      <th>Количество отзывов</th>\n",
       "      <th>...</th>\n",
       "      <th>Было ли высшее образование до психологического (ДА/нет)</th>\n",
       "      <th>стоимость одной очной консультации (в рублях)</th>\n",
       "      <th>Проблемы с которыми работает (текст, через точку с запятой)</th>\n",
       "      <th>Психологические школы (текст, через точку с запятой)</th>\n",
       "      <th>Полный текст самопрезентации психолога</th>\n",
       "      <th>comrade</th>\n",
       "      <th>Заполненность описания психологов</th>\n",
       "      <th>Заполненность маркировки отзывов</th>\n",
       "      <th>Описание психологов в основной таблице</th>\n",
       "      <th>Маркировка психологов в основной таблице</th>\n",
       "    </tr>\n",
       "  </thead>\n",
       "  <tbody>\n",
       "    <tr>\n",
       "      <th>30</th>\n",
       "      <td>Спасибо</td>\n",
       "      <td>п</td>\n",
       "      <td>Удачи вам!</td>\n",
       "      <td>https://www.b17.ru/reuzkaja/</td>\n",
       "      <td>ж</td>\n",
       "      <td>41.0</td>\n",
       "      <td>20</td>\n",
       "      <td>Саратов</td>\n",
       "      <td>249.0</td>\n",
       "      <td>20</td>\n",
       "      <td>...</td>\n",
       "      <td>нет</td>\n",
       "      <td>1800.0</td>\n",
       "      <td>Преодоление неуверенности в себе; преодоление ...</td>\n",
       "      <td>Арт-терапия; гештальт-терапия; телесно-ориенти...</td>\n",
       "      <td>В жизни каждого человека, независимо от пола, ...</td>\n",
       "      <td>1</td>\n",
       "      <td>NaN</td>\n",
       "      <td>NaN</td>\n",
       "      <td>NaN</td>\n",
       "      <td>NaN</td>\n",
       "    </tr>\n",
       "    <tr>\n",
       "      <th>33</th>\n",
       "      <td>Спасибо)</td>\n",
       "      <td>п</td>\n",
       "      <td>Удачи и благополучия!</td>\n",
       "      <td>https://www.b17.ru/reuzkaja/</td>\n",
       "      <td>ж</td>\n",
       "      <td>41.0</td>\n",
       "      <td>20</td>\n",
       "      <td>Саратов</td>\n",
       "      <td>249.0</td>\n",
       "      <td>20</td>\n",
       "      <td>...</td>\n",
       "      <td>нет</td>\n",
       "      <td>1800.0</td>\n",
       "      <td>Преодоление неуверенности в себе; преодоление ...</td>\n",
       "      <td>Арт-терапия; гештальт-терапия; телесно-ориенти...</td>\n",
       "      <td>В жизни каждого человека, независимо от пола, ...</td>\n",
       "      <td>1</td>\n",
       "      <td>NaN</td>\n",
       "      <td>NaN</td>\n",
       "      <td>NaN</td>\n",
       "      <td>NaN</td>\n",
       "    </tr>\n",
       "    <tr>\n",
       "      <th>304</th>\n",
       "      <td>Спасибо!</td>\n",
       "      <td>н</td>\n",
       "      <td>NaN</td>\n",
       "      <td>https://www.b17.ru/dobronevopros/</td>\n",
       "      <td>м</td>\n",
       "      <td>29.0</td>\n",
       "      <td>3</td>\n",
       "      <td>Кривой Рог, Киев</td>\n",
       "      <td>18.0</td>\n",
       "      <td>12</td>\n",
       "      <td>...</td>\n",
       "      <td>нет</td>\n",
       "      <td>1095.0</td>\n",
       "      <td>Самопознание; саморазвитие; поиск себя; Неудов...</td>\n",
       "      <td>Арт-терапия; Когнитивно-поведенческая терапия ...</td>\n",
       "      <td>Получить консультацию\\n52 обращения\\nПсихолог,...</td>\n",
       "      <td>6</td>\n",
       "      <td>NaN</td>\n",
       "      <td>NaN</td>\n",
       "      <td>NaN</td>\n",
       "      <td>NaN</td>\n",
       "    </tr>\n",
       "  </tbody>\n",
       "</table>\n",
       "<p>3 rows × 26 columns</p>\n",
       "</div>"
      ],
      "text/plain": [
       "    Unnamed: 0  \\\n",
       "30     Спасибо   \n",
       "33    Спасибо)   \n",
       "304  Спасибо!    \n",
       "\n",
       "    Разметка отзыва (п - положительный, н - нейтральный, о - отрицательный)  \\\n",
       "30                                                   п                        \n",
       "33                                                   п                        \n",
       "304                                                  н                        \n",
       "\n",
       "    ответ психолога на отзыв                ссылка на профиль\\n пол (м или ж)  \\\n",
       "30                Удачи вам!       https://www.b17.ru/reuzkaja/             ж   \n",
       "33     Удачи и благополучия!       https://www.b17.ru/reuzkaja/             ж   \n",
       "304                      NaN  https://www.b17.ru/dobronevopros/             м   \n",
       "\n",
       "     возраст  опыт работы психологом (количество лет, число)  \\\n",
       "30      41.0                                              20   \n",
       "33      41.0                                              20   \n",
       "304     29.0                                               3   \n",
       "\n",
       "                Город  Количество публикаций на b17  Количество отзывов  ...  \\\n",
       "30            Саратов                         249.0                  20  ...   \n",
       "33            Саратов                         249.0                  20  ...   \n",
       "304  Кривой Рог, Киев                          18.0                  12  ...   \n",
       "\n",
       "     Было ли высшее образование до психологического (ДА/нет)  \\\n",
       "30                                                 нет         \n",
       "33                                                 нет         \n",
       "304                                                нет         \n",
       "\n",
       "     стоимость одной очной консультации (в рублях)  \\\n",
       "30                                          1800.0   \n",
       "33                                          1800.0   \n",
       "304                                         1095.0   \n",
       "\n",
       "    Проблемы с которыми работает (текст, через точку с запятой)  \\\n",
       "30   Преодоление неуверенности в себе; преодоление ...            \n",
       "33   Преодоление неуверенности в себе; преодоление ...            \n",
       "304  Самопознание; саморазвитие; поиск себя; Неудов...            \n",
       "\n",
       "    Психологические школы (текст, через точку с запятой)  \\\n",
       "30   Арт-терапия; гештальт-терапия; телесно-ориенти...     \n",
       "33   Арт-терапия; гештальт-терапия; телесно-ориенти...     \n",
       "304  Арт-терапия; Когнитивно-поведенческая терапия ...     \n",
       "\n",
       "                Полный текст самопрезентации психолога comrade  \\\n",
       "30   В жизни каждого человека, независимо от пола, ...       1   \n",
       "33   В жизни каждого человека, независимо от пола, ...       1   \n",
       "304  Получить консультацию\\n52 обращения\\nПсихолог,...       6   \n",
       "\n",
       "    Заполненность описания психологов  Заполненность маркировки отзывов  \\\n",
       "30                                NaN                               NaN   \n",
       "33                                NaN                               NaN   \n",
       "304                               NaN                               NaN   \n",
       "\n",
       "    Описание психологов в основной таблице  \\\n",
       "30                                     NaN   \n",
       "33                                     NaN   \n",
       "304                                    NaN   \n",
       "\n",
       "    Маркировка психологов в основной таблице  \n",
       "30                                       NaN  \n",
       "33                                       NaN  \n",
       "304                                      NaN  \n",
       "\n",
       "[3 rows x 26 columns]"
      ]
     },
     "execution_count": 45,
     "metadata": {},
     "output_type": "execute_result"
    }
   ],
   "source": [
    "clean[clean.iloc[:, 0].str.len() < 10]"
   ]
  },
  {
   "cell_type": "code",
   "execution_count": null,
   "metadata": {},
   "outputs": [],
   "source": []
  },
  {
   "cell_type": "code",
   "execution_count": null,
   "metadata": {},
   "outputs": [],
   "source": []
  },
  {
   "cell_type": "code",
   "execution_count": null,
   "metadata": {},
   "outputs": [],
   "source": []
  },
  {
   "cell_type": "code",
   "execution_count": null,
   "metadata": {},
   "outputs": [],
   "source": []
  }
 ],
 "metadata": {
  "kernelspec": {
   "display_name": "Python 3",
   "language": "python",
   "name": "python3"
  },
  "language_info": {
   "codemirror_mode": {
    "name": "ipython",
    "version": 3
   },
   "file_extension": ".py",
   "mimetype": "text/x-python",
   "name": "python",
   "nbconvert_exporter": "python",
   "pygments_lexer": "ipython3",
   "version": "3.7.4"
  }
 },
 "nbformat": 4,
 "nbformat_minor": 2
}
